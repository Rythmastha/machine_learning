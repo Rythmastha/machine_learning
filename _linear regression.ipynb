{
 "cells": [
  {
   "cell_type": "code",
   "execution_count": 1,
   "id": "2f96d6cb",
   "metadata": {},
   "outputs": [],
   "source": [
    "import pandas as pd\n",
    "import numpy as np\n",
    "import matplotlib.pyplot as plt\n",
    "import seaborn as sns"
   ]
  },
  {
   "cell_type": "markdown",
   "id": "58ccfcbb",
   "metadata": {},
   "source": [
    "# linear regression :first machine learning algorithm we are learning"
   ]
  },
  {
   "cell_type": "code",
   "execution_count": 2,
   "id": "db4fe25b",
   "metadata": {},
   "outputs": [],
   "source": [
    "#simple linear regression(ols=ordinary least square):limited to just one feature"
   ]
  },
  {
   "cell_type": "code",
   "execution_count": 3,
   "id": "e40927bd",
   "metadata": {},
   "outputs": [],
   "source": [
    "df=pd.read_csv(\"C:\\\\Users\\\\Vandana Jha\\\\Downloads\\\\Advertising.csv\")"
   ]
  },
  {
   "cell_type": "code",
   "execution_count": 4,
   "id": "b0d6a64e",
   "metadata": {},
   "outputs": [
    {
     "data": {
      "text/html": [
       "<div>\n",
       "<style scoped>\n",
       "    .dataframe tbody tr th:only-of-type {\n",
       "        vertical-align: middle;\n",
       "    }\n",
       "\n",
       "    .dataframe tbody tr th {\n",
       "        vertical-align: top;\n",
       "    }\n",
       "\n",
       "    .dataframe thead th {\n",
       "        text-align: right;\n",
       "    }\n",
       "</style>\n",
       "<table border=\"1\" class=\"dataframe\">\n",
       "  <thead>\n",
       "    <tr style=\"text-align: right;\">\n",
       "      <th></th>\n",
       "      <th>TV</th>\n",
       "      <th>radio</th>\n",
       "      <th>newspaper</th>\n",
       "      <th>sales</th>\n",
       "    </tr>\n",
       "  </thead>\n",
       "  <tbody>\n",
       "    <tr>\n",
       "      <th>0</th>\n",
       "      <td>230.1</td>\n",
       "      <td>37.8</td>\n",
       "      <td>69.2</td>\n",
       "      <td>22.1</td>\n",
       "    </tr>\n",
       "    <tr>\n",
       "      <th>1</th>\n",
       "      <td>44.5</td>\n",
       "      <td>39.3</td>\n",
       "      <td>45.1</td>\n",
       "      <td>10.4</td>\n",
       "    </tr>\n",
       "    <tr>\n",
       "      <th>2</th>\n",
       "      <td>17.2</td>\n",
       "      <td>45.9</td>\n",
       "      <td>69.3</td>\n",
       "      <td>9.3</td>\n",
       "    </tr>\n",
       "    <tr>\n",
       "      <th>3</th>\n",
       "      <td>151.5</td>\n",
       "      <td>41.3</td>\n",
       "      <td>58.5</td>\n",
       "      <td>18.5</td>\n",
       "    </tr>\n",
       "    <tr>\n",
       "      <th>4</th>\n",
       "      <td>180.8</td>\n",
       "      <td>10.8</td>\n",
       "      <td>58.4</td>\n",
       "      <td>12.9</td>\n",
       "    </tr>\n",
       "  </tbody>\n",
       "</table>\n",
       "</div>"
      ],
      "text/plain": [
       "      TV  radio  newspaper  sales\n",
       "0  230.1   37.8       69.2   22.1\n",
       "1   44.5   39.3       45.1   10.4\n",
       "2   17.2   45.9       69.3    9.3\n",
       "3  151.5   41.3       58.5   18.5\n",
       "4  180.8   10.8       58.4   12.9"
      ]
     },
     "execution_count": 4,
     "metadata": {},
     "output_type": "execute_result"
    }
   ],
   "source": [
    "df.head()"
   ]
  },
  {
   "cell_type": "code",
   "execution_count": 5,
   "id": "6de7e5f6",
   "metadata": {},
   "outputs": [],
   "source": [
    "#we have three featuresas of now that is tv radio and newspaper ..simple linear \n",
    "#regression cant work with the three so we combine all three in one as total spent in advertisement"
   ]
  },
  {
   "cell_type": "code",
   "execution_count": 6,
   "id": "301ebddd",
   "metadata": {},
   "outputs": [],
   "source": [
    "df['total_spend']=df['TV']+df['radio']+df['newspaper']"
   ]
  },
  {
   "cell_type": "code",
   "execution_count": 7,
   "id": "11f56d21",
   "metadata": {},
   "outputs": [
    {
     "data": {
      "text/html": [
       "<div>\n",
       "<style scoped>\n",
       "    .dataframe tbody tr th:only-of-type {\n",
       "        vertical-align: middle;\n",
       "    }\n",
       "\n",
       "    .dataframe tbody tr th {\n",
       "        vertical-align: top;\n",
       "    }\n",
       "\n",
       "    .dataframe thead th {\n",
       "        text-align: right;\n",
       "    }\n",
       "</style>\n",
       "<table border=\"1\" class=\"dataframe\">\n",
       "  <thead>\n",
       "    <tr style=\"text-align: right;\">\n",
       "      <th></th>\n",
       "      <th>TV</th>\n",
       "      <th>radio</th>\n",
       "      <th>newspaper</th>\n",
       "      <th>sales</th>\n",
       "      <th>total_spend</th>\n",
       "    </tr>\n",
       "  </thead>\n",
       "  <tbody>\n",
       "    <tr>\n",
       "      <th>0</th>\n",
       "      <td>230.1</td>\n",
       "      <td>37.8</td>\n",
       "      <td>69.2</td>\n",
       "      <td>22.1</td>\n",
       "      <td>337.1</td>\n",
       "    </tr>\n",
       "    <tr>\n",
       "      <th>1</th>\n",
       "      <td>44.5</td>\n",
       "      <td>39.3</td>\n",
       "      <td>45.1</td>\n",
       "      <td>10.4</td>\n",
       "      <td>128.9</td>\n",
       "    </tr>\n",
       "    <tr>\n",
       "      <th>2</th>\n",
       "      <td>17.2</td>\n",
       "      <td>45.9</td>\n",
       "      <td>69.3</td>\n",
       "      <td>9.3</td>\n",
       "      <td>132.4</td>\n",
       "    </tr>\n",
       "    <tr>\n",
       "      <th>3</th>\n",
       "      <td>151.5</td>\n",
       "      <td>41.3</td>\n",
       "      <td>58.5</td>\n",
       "      <td>18.5</td>\n",
       "      <td>251.3</td>\n",
       "    </tr>\n",
       "    <tr>\n",
       "      <th>4</th>\n",
       "      <td>180.8</td>\n",
       "      <td>10.8</td>\n",
       "      <td>58.4</td>\n",
       "      <td>12.9</td>\n",
       "      <td>250.0</td>\n",
       "    </tr>\n",
       "  </tbody>\n",
       "</table>\n",
       "</div>"
      ],
      "text/plain": [
       "      TV  radio  newspaper  sales  total_spend\n",
       "0  230.1   37.8       69.2   22.1        337.1\n",
       "1   44.5   39.3       45.1   10.4        128.9\n",
       "2   17.2   45.9       69.3    9.3        132.4\n",
       "3  151.5   41.3       58.5   18.5        251.3\n",
       "4  180.8   10.8       58.4   12.9        250.0"
      ]
     },
     "execution_count": 7,
     "metadata": {},
     "output_type": "execute_result"
    }
   ],
   "source": [
    "df.head()"
   ]
  },
  {
   "cell_type": "code",
   "execution_count": 8,
   "id": "3f73e699",
   "metadata": {},
   "outputs": [
    {
     "data": {
      "text/plain": [
       "<AxesSubplot:xlabel='total_spend', ylabel='sales'>"
      ]
     },
     "execution_count": 8,
     "metadata": {},
     "output_type": "execute_result"
    },
    {
     "data": {
      "image/png": "[encoded data removed]",
      "text/plain": [
       "<Figure size 432x288 with 1 Axes>"
      ]
     },
     "metadata": {
      "needs_background": "light"
     },
     "output_type": "display_data"
    }
   ],
   "source": [
    "sns.scatterplot(data=df,x='total_spend',y='sales')\n",
    "#we notice the more we spend more is the sales (positive results)"
   ]
  },
  {
   "cell_type": "code",
   "execution_count": 9,
   "id": "fe0b2d7f",
   "metadata": {},
   "outputs": [
    {
     "data": {
      "text/plain": [
       "<AxesSubplot:xlabel='total_spend', ylabel='sales'>"
      ]
     },
     "execution_count": 9,
     "metadata": {},
     "output_type": "execute_result"
    },
    {
     "data": {
      "image/png": "[encoded data removed]",
      "text/plain": [
       "<Figure size 432x288 with 1 Axes>"
      ]
     },
     "metadata": {
      "needs_background": "light"
     },
     "output_type": "display_data"
    }
   ],
   "source": [
    "sns.regplot(data=df,x='total_spend',y='sales')"
   ]
  },
  {
   "cell_type": "code",
   "execution_count": 10,
   "id": "9c036422",
   "metadata": {},
   "outputs": [],
   "source": [
    "X=df['total_spend']\n",
    "y=df['sales']"
   ]
  },
  {
   "cell_type": "code",
   "execution_count": 11,
   "id": "c2d03a5c",
   "metadata": {},
   "outputs": [
    {
     "name": "stdout",
     "output_type": "stream",
     "text": [
      "Help on function polyfit in module numpy:\n",
      "\n",
      "polyfit(x, y, deg, rcond=None, full=False, w=None, cov=False)\n",
      "    Least squares polynomial fit.\n",
      "    \n",
      "    .. note::\n",
      "       This forms part of the old polynomial API. Since version 1.4, the\n",
      "       new polynomial API defined in `numpy.polynomial` is preferred.\n",
      "       A summary of the differences can be found in the\n",
      "       :doc:`transition guide </reference/routines.polynomials>`.\n",
      "    \n",
      "    Fit a polynomial ``p(x) = p[0] * x**deg + ... + p[deg]`` of degree `deg`\n",
      "    to points `(x, y)`. Returns a vector of coefficients `p` that minimises\n",
      "    the squared error in the order `deg`, `deg-1`, ... `0`.\n",
      "    \n",
      "    The `Polynomial.fit <numpy.polynomial.polynomial.Polynomial.fit>` class\n",
      "    method is recommended for new code as it is more stable numerically. See\n",
      "    the documentation of the method for more information.\n",
      "    \n",
      "    Parameters\n",
      "    ----------\n",
      "    x : array_like, shape (M,)\n",
      "        x-coordinates of the M sample points ``(x[i], y[i])``.\n",
      "    y : array_like, shape (M,) or (M, K)\n",
      "        y-coordinates of the sample points. Several data sets of sample\n",
      "        points sharing the same x-coordinates can be fitted at once by\n",
      "        passing in a 2D-array that contains one dataset per column.\n",
      "    deg : int\n",
      "        Degree of the fitting polynomial\n",
      "    rcond : float, optional\n",
      "        Relative condition number of the fit. Singular values smaller than\n",
      "        this relative to the largest singular value will be ignored. The\n",
      "        default value is len(x)*eps, where eps is the relative precision of\n",
      "        the float type, about 2e-16 in most cases.\n",
      "    full : bool, optional\n",
      "        Switch determining nature of return value. When it is False (the\n",
      "        default) just the coefficients are returned, when True diagnostic\n",
      "        information from the singular value decomposition is also returned.\n",
      "    w : array_like, shape (M,), optional\n",
      "        Weights to apply to the y-coordinates of the sample points. For\n",
      "        gaussian uncertainties, use 1/sigma (not 1/sigma**2).\n",
      "    cov : bool or str, optional\n",
      "        If given and not `False`, return not just the estimate but also its\n",
      "        covariance matrix. By default, the covariance are scaled by\n",
      "        chi2/dof, where dof = M - (deg + 1), i.e., the weights are presumed \n",
      "        to be unreliable except in a relative sense and everything is scaled \n",
      "        such that the reduced chi2 is unity. This scaling is omitted if \n",
      "        ``cov='unscaled'``, as is relevant for the case that the weights are \n",
      "        1/sigma**2, with sigma known to be a reliable estimate of the \n",
      "        uncertainty.\n",
      "    \n",
      "    Returns\n",
      "    -------\n",
      "    p : ndarray, shape (deg + 1,) or (deg + 1, K)\n",
      "        Polynomial coefficients, highest power first.  If `y` was 2-D, the\n",
      "        coefficients for `k`-th data set are in ``p[:,k]``.\n",
      "    \n",
      "    residuals, rank, singular_values, rcond\n",
      "        Present only if `full` = True.  Residuals is sum of squared residuals\n",
      "        of the least-squares fit, the effective rank of the scaled Vandermonde\n",
      "        coefficient matrix, its singular values, and the specified value of\n",
      "        `rcond`. For more details, see `linalg.lstsq`.\n",
      "    \n",
      "    V : ndarray, shape (M,M) or (M,M,K)\n",
      "        Present only if `full` = False and `cov`=True.  The covariance\n",
      "        matrix of the polynomial coefficient estimates.  The diagonal of\n",
      "        this matrix are the variance estimates for each coefficient.  If y\n",
      "        is a 2-D array, then the covariance matrix for the `k`-th data set\n",
      "        are in ``V[:,:,k]``\n",
      "    \n",
      "    \n",
      "    Warns\n",
      "    -----\n",
      "    RankWarning\n",
      "        The rank of the coefficient matrix in the least-squares fit is\n",
      "        deficient. The warning is only raised if `full` = False.\n",
      "    \n",
      "        The warnings can be turned off by\n",
      "    \n",
      "        >>> import warnings\n",
      "        >>> warnings.simplefilter('ignore', np.RankWarning)\n",
      "    \n",
      "    See Also\n",
      "    --------\n",
      "    polyval : Compute polynomial values.\n",
      "    linalg.lstsq : Computes a least-squares fit.\n",
      "    scipy.interpolate.UnivariateSpline : Computes spline fits.\n",
      "    \n",
      "    Notes\n",
      "    -----\n",
      "    The solution minimizes the squared error\n",
      "    \n",
      "    .. math ::\n",
      "        E = \\sum_{j=0}^k |p(x_j) - y_j|^2\n",
      "    \n",
      "    in the equations::\n",
      "    \n",
      "        x[0]**n * p[0] + ... + x[0] * p[n-1] + p[n] = y[0]\n",
      "        x[1]**n * p[0] + ... + x[1] * p[n-1] + p[n] = y[1]\n",
      "        ...\n",
      "        x[k]**n * p[0] + ... + x[k] * p[n-1] + p[n] = y[k]\n",
      "    \n",
      "    The coefficient matrix of the coefficients `p` is a Vandermonde matrix.\n",
      "    \n",
      "    `polyfit` issues a `RankWarning` when the least-squares fit is badly\n",
      "    conditioned. This implies that the best fit is not well-defined due\n",
      "    to numerical error. The results may be improved by lowering the polynomial\n",
      "    degree or by replacing `x` by `x` - `x`.mean(). The `rcond` parameter\n",
      "    can also be set to a value smaller than its default, but the resulting\n",
      "    fit may be spurious: including contributions from the small singular\n",
      "    values can add numerical noise to the result.\n",
      "    \n",
      "    Note that fitting polynomial coefficients is inherently badly conditioned\n",
      "    when the degree of the polynomial is large or the interval of sample points\n",
      "    is badly centered. The quality of the fit should always be checked in these\n",
      "    cases. When polynomial fits are not satisfactory, splines may be a good\n",
      "    alternative.\n",
      "    \n",
      "    References\n",
      "    ----------\n",
      "    .. [1] Wikipedia, \"Curve fitting\",\n",
      "           https://en.wikipedia.org/wiki/Curve_fitting\n",
      "    .. [2] Wikipedia, \"Polynomial interpolation\",\n",
      "           https://en.wikipedia.org/wiki/Polynomial_interpolation\n",
      "    \n",
      "    Examples\n",
      "    --------\n",
      "    >>> import warnings\n",
      "    >>> x = np.array([0.0, 1.0, 2.0, 3.0,  4.0,  5.0])\n",
      "    >>> y = np.array([0.0, 0.8, 0.9, 0.1, -0.8, -1.0])\n",
      "    >>> z = np.polyfit(x, y, 3)\n",
      "    >>> z\n",
      "    array([ 0.08703704, -0.81349206,  1.69312169, -0.03968254]) # may vary\n",
      "    \n",
      "    It is convenient to use `poly1d` objects for dealing with polynomials:\n",
      "    \n",
      "    >>> p = np.poly1d(z)\n",
      "    >>> p(0.5)\n",
      "    0.6143849206349179 # may vary\n",
      "    >>> p(3.5)\n",
      "    -0.34732142857143039 # may vary\n",
      "    >>> p(10)\n",
      "    22.579365079365115 # may vary\n",
      "    \n",
      "    High-order polynomials may oscillate wildly:\n",
      "    \n",
      "    >>> with warnings.catch_warnings():\n",
      "    ...     warnings.simplefilter('ignore', np.RankWarning)\n",
      "    ...     p30 = np.poly1d(np.polyfit(x, y, 30))\n",
      "    ...\n",
      "    >>> p30(4)\n",
      "    -0.80000000000000204 # may vary\n",
      "    >>> p30(5)\n",
      "    -0.99999999999999445 # may vary\n",
      "    >>> p30(4.5)\n",
      "    -0.10547061179440398 # may vary\n",
      "    \n",
      "    Illustration:\n",
      "    \n",
      "    >>> import matplotlib.pyplot as plt\n",
      "    >>> xp = np.linspace(-2, 6, 100)\n",
      "    >>> _ = plt.plot(x, y, '.', xp, p(xp), '-', xp, p30(xp), '--')\n",
      "    >>> plt.ylim(-2,2)\n",
      "    (-2, 2)\n",
      "    >>> plt.show()\n",
      "\n"
     ]
    }
   ],
   "source": [
    "#solvig ols\n",
    "#y=mx+b\n",
    "#y=B1x+B0\n",
    "help(np.polyfit)"
   ]
  },
  {
   "cell_type": "code",
   "execution_count": 12,
   "id": "2f557bd2",
   "metadata": {},
   "outputs": [
    {
     "data": {
      "text/plain": [
       "array([0.04868788, 4.24302822])"
      ]
     },
     "execution_count": 12,
     "metadata": {},
     "output_type": "execute_result"
    }
   ],
   "source": [
    "np.polyfit(X,y,deg=1)\n",
    "#the two outputs are beta co effecients B1 and B0"
   ]
  },
  {
   "cell_type": "code",
   "execution_count": 13,
   "id": "5a2b98a2",
   "metadata": {},
   "outputs": [],
   "source": [
    "#now we can predict the sales for any value"
   ]
  },
  {
   "cell_type": "code",
   "execution_count": 14,
   "id": "0ea68678",
   "metadata": {},
   "outputs": [],
   "source": [
    "potential_spend=np.linspace(0,500,100)"
   ]
  },
  {
   "cell_type": "code",
   "execution_count": 15,
   "id": "f4d11c86",
   "metadata": {},
   "outputs": [],
   "source": [
    "predicted_sales=0.04868788*potential_spend + 4.24302822"
   ]
  },
  {
   "cell_type": "code",
   "execution_count": 16,
   "id": "ec3e2be0",
   "metadata": {},
   "outputs": [
    {
     "data": {
      "text/plain": [
       "[<matplotlib.lines.Line2D at 0x186f0047370>]"
      ]
     },
     "execution_count": 16,
     "metadata": {},
     "output_type": "execute_result"
    },
    {
     "data": {
      "image/png": "[encoded data removed]",
      "text/plain": [
       "<Figure size 432x288 with 1 Axes>"
      ]
     },
     "metadata": {
      "needs_background": "light"
     },
     "output_type": "display_data"
    }
   ],
   "source": [
    "sns.scatterplot(x='total_spend',y='sales',data=df)\n",
    "plt.plot(potential_spend,predicted_sales,color='red')"
   ]
  },
  {
   "cell_type": "code",
   "execution_count": 17,
   "id": "6950d2a8",
   "metadata": {},
   "outputs": [],
   "source": [
    "potential_spend=200\n",
    "predicted_scales=0.04868788*potential_spend + 4.24302822"
   ]
  },
  {
   "cell_type": "code",
   "execution_count": 18,
   "id": "468f37b9",
   "metadata": {},
   "outputs": [
    {
     "data": {
      "text/plain": [
       "13.98060422"
      ]
     },
     "execution_count": 18,
     "metadata": {},
     "output_type": "execute_result"
    }
   ],
   "source": [
    "predicted_scales"
   ]
  },
  {
   "cell_type": "markdown",
   "id": "cac902f6",
   "metadata": {},
   "source": [
    "# scikit learn=library consisting vaious ml algorithms"
   ]
  },
  {
   "cell_type": "code",
   "execution_count": 19,
   "id": "bfc5ef3f",
   "metadata": {},
   "outputs": [],
   "source": [
    "#scikit learn for supervised machine learning process"
   ]
  },
  {
   "cell_type": "code",
   "execution_count": 20,
   "id": "8bd1f607",
   "metadata": {},
   "outputs": [],
   "source": [
    "df=pd.read_csv(\"C:\\\\Users\\\\Vandana Jha\\\\Downloads\\\\Advertising.csv\")"
   ]
  },
  {
   "cell_type": "code",
   "execution_count": 21,
   "id": "9a0460e0",
   "metadata": {},
   "outputs": [
    {
     "data": {
      "image/png": "[encoded data removed]",
      "text/plain": [
       "<Figure size 1152x432 with 3 Axes>"
      ]
     },
     "metadata": {
      "needs_background": "light"
     },
     "output_type": "display_data"
    }
   ],
   "source": [
    "fig,axes = plt.subplots(nrows=1,ncols=3,figsize=(16,6))\n",
    "\n",
    "axes[0].plot(df['TV'],df['sales'],'o')\n",
    "axes[0].set_ylabel(\"Sales\")\n",
    "axes[0].set_title(\"TV Spend\")\n",
    "\n",
    "axes[1].plot(df['radio'],df['sales'],'o')\n",
    "axes[1].set_title(\"Radio Spend\")\n",
    "axes[1].set_ylabel(\"Sales\")\n",
    "\n",
    "axes[2].plot(df['newspaper'],df['sales'],'o')\n",
    "axes[2].set_title(\"Newspaper Spend\");\n",
    "axes[2].set_ylabel(\"Sales\")\n",
    "plt.tight_layout();"
   ]
  },
  {
   "cell_type": "code",
   "execution_count": 22,
   "id": "62f4806c",
   "metadata": {},
   "outputs": [
    {
     "data": {
      "text/html": [
       "<div>\n",
       "<style scoped>\n",
       "    .dataframe tbody tr th:only-of-type {\n",
       "        vertical-align: middle;\n",
       "    }\n",
       "\n",
       "    .dataframe tbody tr th {\n",
       "        vertical-align: top;\n",
       "    }\n",
       "\n",
       "    .dataframe thead th {\n",
       "        text-align: right;\n",
       "    }\n",
       "</style>\n",
       "<table border=\"1\" class=\"dataframe\">\n",
       "  <thead>\n",
       "    <tr style=\"text-align: right;\">\n",
       "      <th></th>\n",
       "      <th>TV</th>\n",
       "      <th>radio</th>\n",
       "      <th>newspaper</th>\n",
       "    </tr>\n",
       "  </thead>\n",
       "  <tbody>\n",
       "    <tr>\n",
       "      <th>0</th>\n",
       "      <td>230.1</td>\n",
       "      <td>37.8</td>\n",
       "      <td>69.2</td>\n",
       "    </tr>\n",
       "    <tr>\n",
       "      <th>1</th>\n",
       "      <td>44.5</td>\n",
       "      <td>39.3</td>\n",
       "      <td>45.1</td>\n",
       "    </tr>\n",
       "    <tr>\n",
       "      <th>2</th>\n",
       "      <td>17.2</td>\n",
       "      <td>45.9</td>\n",
       "      <td>69.3</td>\n",
       "    </tr>\n",
       "    <tr>\n",
       "      <th>3</th>\n",
       "      <td>151.5</td>\n",
       "      <td>41.3</td>\n",
       "      <td>58.5</td>\n",
       "    </tr>\n",
       "    <tr>\n",
       "      <th>4</th>\n",
       "      <td>180.8</td>\n",
       "      <td>10.8</td>\n",
       "      <td>58.4</td>\n",
       "    </tr>\n",
       "    <tr>\n",
       "      <th>...</th>\n",
       "      <td>...</td>\n",
       "      <td>...</td>\n",
       "      <td>...</td>\n",
       "    </tr>\n",
       "    <tr>\n",
       "      <th>195</th>\n",
       "      <td>38.2</td>\n",
       "      <td>3.7</td>\n",
       "      <td>13.8</td>\n",
       "    </tr>\n",
       "    <tr>\n",
       "      <th>196</th>\n",
       "      <td>94.2</td>\n",
       "      <td>4.9</td>\n",
       "      <td>8.1</td>\n",
       "    </tr>\n",
       "    <tr>\n",
       "      <th>197</th>\n",
       "      <td>177.0</td>\n",
       "      <td>9.3</td>\n",
       "      <td>6.4</td>\n",
       "    </tr>\n",
       "    <tr>\n",
       "      <th>198</th>\n",
       "      <td>283.6</td>\n",
       "      <td>42.0</td>\n",
       "      <td>66.2</td>\n",
       "    </tr>\n",
       "    <tr>\n",
       "      <th>199</th>\n",
       "      <td>232.1</td>\n",
       "      <td>8.6</td>\n",
       "      <td>8.7</td>\n",
       "    </tr>\n",
       "  </tbody>\n",
       "</table>\n",
       "<p>200 rows × 3 columns</p>\n",
       "</div>"
      ],
      "text/plain": [
       "        TV  radio  newspaper\n",
       "0    230.1   37.8       69.2\n",
       "1     44.5   39.3       45.1\n",
       "2     17.2   45.9       69.3\n",
       "3    151.5   41.3       58.5\n",
       "4    180.8   10.8       58.4\n",
       "..     ...    ...        ...\n",
       "195   38.2    3.7       13.8\n",
       "196   94.2    4.9        8.1\n",
       "197  177.0    9.3        6.4\n",
       "198  283.6   42.0       66.2\n",
       "199  232.1    8.6        8.7\n",
       "\n",
       "[200 rows x 3 columns]"
      ]
     },
     "execution_count": 22,
     "metadata": {},
     "output_type": "execute_result"
    }
   ],
   "source": [
    "X=df.drop('sales',axis=1)\n",
    "X"
   ]
  },
  {
   "cell_type": "code",
   "execution_count": 23,
   "id": "dc64a690",
   "metadata": {},
   "outputs": [],
   "source": [
    "y=df['sales']"
   ]
  },
  {
   "cell_type": "code",
   "execution_count": 24,
   "id": "f690a760",
   "metadata": {},
   "outputs": [],
   "source": [
    "from sklearn.model_selection import train_test_split"
   ]
  },
  {
   "cell_type": "code",
   "execution_count": 25,
   "id": "ae09a0f3",
   "metadata": {},
   "outputs": [],
   "source": [
    "X_train,X_test,y_train,y_test = train_test_split(X,y,test_size=0.3,random_state=42)"
   ]
  },
  {
   "cell_type": "code",
   "execution_count": 26,
   "id": "07c76c5b",
   "metadata": {},
   "outputs": [
    {
     "data": {
      "text/plain": [
       "200"
      ]
     },
     "execution_count": 26,
     "metadata": {},
     "output_type": "execute_result"
    }
   ],
   "source": [
    "len(df)"
   ]
  },
  {
   "cell_type": "code",
   "execution_count": 27,
   "id": "67c1720a",
   "metadata": {},
   "outputs": [
    {
     "data": {
      "text/html": [
       "<div>\n",
       "<style scoped>\n",
       "    .dataframe tbody tr th:only-of-type {\n",
       "        vertical-align: middle;\n",
       "    }\n",
       "\n",
       "    .dataframe tbody tr th {\n",
       "        vertical-align: top;\n",
       "    }\n",
       "\n",
       "    .dataframe thead th {\n",
       "        text-align: right;\n",
       "    }\n",
       "</style>\n",
       "<table border=\"1\" class=\"dataframe\">\n",
       "  <thead>\n",
       "    <tr style=\"text-align: right;\">\n",
       "      <th></th>\n",
       "      <th>TV</th>\n",
       "      <th>radio</th>\n",
       "      <th>newspaper</th>\n",
       "    </tr>\n",
       "  </thead>\n",
       "  <tbody>\n",
       "    <tr>\n",
       "      <th>169</th>\n",
       "      <td>284.3</td>\n",
       "      <td>10.6</td>\n",
       "      <td>6.4</td>\n",
       "    </tr>\n",
       "    <tr>\n",
       "      <th>97</th>\n",
       "      <td>184.9</td>\n",
       "      <td>21.0</td>\n",
       "      <td>22.0</td>\n",
       "    </tr>\n",
       "    <tr>\n",
       "      <th>31</th>\n",
       "      <td>112.9</td>\n",
       "      <td>17.4</td>\n",
       "      <td>38.6</td>\n",
       "    </tr>\n",
       "    <tr>\n",
       "      <th>12</th>\n",
       "      <td>23.8</td>\n",
       "      <td>35.1</td>\n",
       "      <td>65.9</td>\n",
       "    </tr>\n",
       "    <tr>\n",
       "      <th>35</th>\n",
       "      <td>290.7</td>\n",
       "      <td>4.1</td>\n",
       "      <td>8.5</td>\n",
       "    </tr>\n",
       "    <tr>\n",
       "      <th>...</th>\n",
       "      <td>...</td>\n",
       "      <td>...</td>\n",
       "      <td>...</td>\n",
       "    </tr>\n",
       "    <tr>\n",
       "      <th>106</th>\n",
       "      <td>25.0</td>\n",
       "      <td>11.0</td>\n",
       "      <td>29.7</td>\n",
       "    </tr>\n",
       "    <tr>\n",
       "      <th>14</th>\n",
       "      <td>204.1</td>\n",
       "      <td>32.9</td>\n",
       "      <td>46.0</td>\n",
       "    </tr>\n",
       "    <tr>\n",
       "      <th>92</th>\n",
       "      <td>217.7</td>\n",
       "      <td>33.5</td>\n",
       "      <td>59.0</td>\n",
       "    </tr>\n",
       "    <tr>\n",
       "      <th>179</th>\n",
       "      <td>165.6</td>\n",
       "      <td>10.0</td>\n",
       "      <td>17.6</td>\n",
       "    </tr>\n",
       "    <tr>\n",
       "      <th>102</th>\n",
       "      <td>280.2</td>\n",
       "      <td>10.1</td>\n",
       "      <td>21.4</td>\n",
       "    </tr>\n",
       "  </tbody>\n",
       "</table>\n",
       "<p>140 rows × 3 columns</p>\n",
       "</div>"
      ],
      "text/plain": [
       "        TV  radio  newspaper\n",
       "169  284.3   10.6        6.4\n",
       "97   184.9   21.0       22.0\n",
       "31   112.9   17.4       38.6\n",
       "12    23.8   35.1       65.9\n",
       "35   290.7    4.1        8.5\n",
       "..     ...    ...        ...\n",
       "106   25.0   11.0       29.7\n",
       "14   204.1   32.9       46.0\n",
       "92   217.7   33.5       59.0\n",
       "179  165.6   10.0       17.6\n",
       "102  280.2   10.1       21.4\n",
       "\n",
       "[140 rows x 3 columns]"
      ]
     },
     "execution_count": 27,
     "metadata": {},
     "output_type": "execute_result"
    }
   ],
   "source": [
    "X_train"
   ]
  },
  {
   "cell_type": "code",
   "execution_count": 28,
   "id": "0a062cdd",
   "metadata": {},
   "outputs": [
    {
     "data": {
      "text/plain": [
       "169    15.0\n",
       "97     15.5\n",
       "31     11.9\n",
       "12      9.2\n",
       "35     12.8\n",
       "       ... \n",
       "106     7.2\n",
       "14     19.0\n",
       "92     19.4\n",
       "179    12.6\n",
       "102    14.8\n",
       "Name: sales, Length: 140, dtype: float64"
      ]
     },
     "execution_count": 28,
     "metadata": {},
     "output_type": "execute_result"
    }
   ],
   "source": [
    "y_train"
   ]
  },
  {
   "cell_type": "code",
   "execution_count": 29,
   "id": "24bfe9f6",
   "metadata": {},
   "outputs": [
    {
     "data": {
      "text/plain": [
       "60"
      ]
     },
     "execution_count": 29,
     "metadata": {},
     "output_type": "execute_result"
    }
   ],
   "source": [
    "len(X_test)"
   ]
  },
  {
   "cell_type": "code",
   "execution_count": 30,
   "id": "b2900cbb",
   "metadata": {},
   "outputs": [],
   "source": [
    "from sklearn.linear_model import LinearRegression"
   ]
  },
  {
   "cell_type": "code",
   "execution_count": 31,
   "id": "0d8f0091",
   "metadata": {},
   "outputs": [],
   "source": [
    "model=LinearRegression()"
   ]
  },
  {
   "cell_type": "code",
   "execution_count": 32,
   "id": "543f2f5b",
   "metadata": {},
   "outputs": [
    {
     "data": {
      "text/plain": [
       "LinearRegression()"
      ]
     },
     "execution_count": 32,
     "metadata": {},
     "output_type": "execute_result"
    }
   ],
   "source": [
    "model.fit(X_train,y_train)"
   ]
  },
  {
   "cell_type": "code",
   "execution_count": 33,
   "id": "7aaf6e39",
   "metadata": {},
   "outputs": [
    {
     "data": {
      "text/plain": [
       "array([16.5653963 , 21.18822792, 21.55107058, 10.88923816, 22.20231988,\n",
       "       13.35556872, 21.19692502,  7.35028523, 13.27547079, 15.12449511,\n",
       "        9.01443026,  6.52542825, 14.30205991,  8.97026042,  9.45679576,\n",
       "       12.00454351,  8.91549403, 16.15619251, 10.29582883, 18.72473553,\n",
       "       19.76821818, 13.77469028, 12.49638908, 21.53501762,  7.60860741,\n",
       "        5.6119801 , 20.91759483, 11.80627665,  9.08076637,  8.51412012,\n",
       "       12.17604891,  9.9691939 , 21.73008956, 12.77770578, 18.1011362 ,\n",
       "       20.07590796, 14.26202556, 20.93826535, 10.83938827,  4.38190607,\n",
       "        9.51332406, 12.40486324, 10.17045434,  8.09081363, 13.16388427,\n",
       "        5.2243552 ,  9.28893833, 14.09330719,  8.69024497, 11.66119763,\n",
       "       15.71848432, 11.63156862, 13.35360735, 11.1531472 ,  6.33636845,\n",
       "        9.76157954,  9.4195714 , 24.25516546,  7.69519137, 12.15317572])"
      ]
     },
     "execution_count": 33,
     "metadata": {},
     "output_type": "execute_result"
    }
   ],
   "source": [
    "test_predictions=model.predict(X_test)\n",
    "test_predictions"
   ]
  },
  {
   "cell_type": "code",
   "execution_count": 34,
   "id": "3cd89a2c",
   "metadata": {},
   "outputs": [],
   "source": [
    "from sklearn.metrics import mean_absolute_error,mean_squared_error\n",
    "#metrics to check if the prediciton is correct using errors"
   ]
  },
  {
   "cell_type": "code",
   "execution_count": 35,
   "id": "6c7d4279",
   "metadata": {},
   "outputs": [
    {
     "data": {
      "text/plain": [
       "14.022500000000003"
      ]
     },
     "execution_count": 35,
     "metadata": {},
     "output_type": "execute_result"
    }
   ],
   "source": [
    "df['sales'].mean()"
   ]
  },
  {
   "cell_type": "code",
   "execution_count": 36,
   "id": "3b719f64",
   "metadata": {},
   "outputs": [
    {
     "data": {
      "text/plain": [
       "<AxesSubplot:xlabel='sales', ylabel='Count'>"
      ]
     },
     "execution_count": 36,
     "metadata": {},
     "output_type": "execute_result"
    },
    {
     "data": {
      "image/png": "[encoded data removed]",
      "text/plain": [
       "<Figure size 432x288 with 1 Axes>"
      ]
     },
     "metadata": {
      "needs_background": "light"
     },
     "output_type": "display_data"
    }
   ],
   "source": [
    "sns.histplot(data=df,x='sales')"
   ]
  },
  {
   "cell_type": "code",
   "execution_count": 37,
   "id": "ddb565a5",
   "metadata": {},
   "outputs": [
    {
     "data": {
      "text/plain": [
       "1.5116692224549084"
      ]
     },
     "execution_count": 37,
     "metadata": {},
     "output_type": "execute_result"
    }
   ],
   "source": [
    "mean_absolute_error(y_test,test_predictions)"
   ]
  },
  {
   "cell_type": "code",
   "execution_count": 38,
   "id": "c7d95662",
   "metadata": {},
   "outputs": [
    {
     "data": {
      "text/plain": [
       "3.7967972367152183"
      ]
     },
     "execution_count": 38,
     "metadata": {},
     "output_type": "execute_result"
    }
   ],
   "source": [
    "mean_squared_error(y_test,test_predictions)"
   ]
  },
  {
   "cell_type": "code",
   "execution_count": 39,
   "id": "d3411b26",
   "metadata": {},
   "outputs": [
    {
     "data": {
      "text/plain": [
       "1.9485372043446383"
      ]
     },
     "execution_count": 39,
     "metadata": {},
     "output_type": "execute_result"
    }
   ],
   "source": [
    "#root mean squared error\n",
    "np.sqrt(mean_squared_error(y_test,test_predictions))"
   ]
  },
  {
   "cell_type": "markdown",
   "id": "89e05e73",
   "metadata": {},
   "source": [
    "# residual(y-y^) plots\n",
    "#plotting residual errors vs true y value"
   ]
  },
  {
   "cell_type": "code",
   "execution_count": 40,
   "id": "63fc518d",
   "metadata": {},
   "outputs": [
    {
     "data": {
      "text/plain": [
       "95     0.334604\n",
       "15     1.211772\n",
       "30    -0.151071\n",
       "158   -3.589238\n",
       "128    2.497680\n",
       "115   -0.755569\n",
       "69     1.103075\n",
       "170    1.049715\n",
       "174   -1.775471\n",
       "45    -0.224495\n",
       "66     0.485570\n",
       "182    2.174572\n",
       "165   -2.402060\n",
       "78    -3.670260\n",
       "186    0.843204\n",
       "177   -0.304544\n",
       "56    -3.415494\n",
       "152    0.443807\n",
       "82     1.004171\n",
       "68     0.175264\n",
       "124   -0.068218\n",
       "16    -1.274690\n",
       "148   -1.596389\n",
       "93     0.664982\n",
       "65     1.691393\n",
       "60     2.488020\n",
       "84     0.782405\n",
       "67     1.593723\n",
       "125    1.519234\n",
       "132   -2.814120\n",
       "9     -1.576049\n",
       "18     1.330806\n",
       "55     1.969910\n",
       "75    -4.077706\n",
       "150   -2.001136\n",
       "104    0.624092\n",
       "135   -2.662026\n",
       "137   -0.138265\n",
       "164    1.060612\n",
       "76     2.518094\n",
       "79     1.486676\n",
       "197    0.395137\n",
       "38    -0.070454\n",
       "24     1.609186\n",
       "122   -1.563884\n",
       "195    2.375645\n",
       "29     1.211062\n",
       "19     0.506693\n",
       "143    1.709755\n",
       "86     0.338802\n",
       "114   -1.118484\n",
       "173    0.068431\n",
       "5     -6.153607\n",
       "126   -4.553147\n",
       "117    3.063632\n",
       "73     1.238420\n",
       "140    1.480429\n",
       "98     1.144835\n",
       "172   -0.095191\n",
       "96    -0.453176\n",
       "Name: sales, dtype: float64"
      ]
     },
     "execution_count": 40,
     "metadata": {},
     "output_type": "execute_result"
    }
   ],
   "source": [
    "test_residuals=y_test-test_predictions\n",
    "test_residuals"
   ]
  },
  {
   "cell_type": "code",
   "execution_count": 41,
   "id": "4a328c46",
   "metadata": {},
   "outputs": [
    {
     "data": {
      "text/plain": [
       "<matplotlib.lines.Line2D at 0x186f012e430>"
      ]
     },
     "execution_count": 41,
     "metadata": {},
     "output_type": "execute_result"
    },
    {
     "data": {
      "image/png": "[encoded data removed]",
      "text/plain": [
       "<Figure size 432x288 with 1 Axes>"
      ]
     },
     "metadata": {
      "needs_background": "light"
     },
     "output_type": "display_data"
    }
   ],
   "source": [
    "sns.scatterplot(x=y_test,y=test_residuals)\n",
    "plt.axhline(y=0,color='red')"
   ]
  },
  {
   "cell_type": "code",
   "execution_count": 42,
   "id": "957291e6",
   "metadata": {},
   "outputs": [],
   "source": [
    "#the graph looks absolutely random thus we should not use linear regression"
   ]
  },
  {
   "cell_type": "code",
   "execution_count": 43,
   "id": "90b750dc",
   "metadata": {},
   "outputs": [
    {
     "data": {
      "text/plain": [
       "<seaborn.axisgrid.FacetGrid at 0x186f09eea60>"
      ]
     },
     "execution_count": 43,
     "metadata": {},
     "output_type": "execute_result"
    },
    {
     "data": {
      "image/png": "[encoded data removed]",
      "text/plain": [
       "<Figure size 360x360 with 1 Axes>"
      ]
     },
     "metadata": {
      "needs_background": "light"
     },
     "output_type": "display_data"
    }
   ],
   "source": [
    "#what we actually wanted\n",
    "sns.displot(test_residuals,bins=25,kde=True)"
   ]
  },
  {
   "cell_type": "code",
   "execution_count": 44,
   "id": "9827900c",
   "metadata": {},
   "outputs": [],
   "source": [
    "import scipy as sp"
   ]
  },
  {
   "cell_type": "code",
   "execution_count": 45,
   "id": "8de7ffeb",
   "metadata": {},
   "outputs": [
    {
     "data": {
      "image/png": "[encoded data removed]",
      "text/plain": [
       "<Figure size 500x500 with 1 Axes>"
      ]
     },
     "metadata": {
      "needs_background": "light"
     },
     "output_type": "display_data"
    }
   ],
   "source": [
    "#create a figure and axes to plot on\n",
    "fig,ax=plt.subplots(figsize=(5,5),dpi=100)\n",
    "#probplot returns the raw values if needed \n",
    "#we just want to see the plot,so we assign these values to_\n",
    "_=sp.stats.probplot(test_residuals,plot=ax)"
   ]
  },
  {
   "cell_type": "markdown",
   "id": "c37d1650",
   "metadata": {},
   "source": [
    "# model deployment"
   ]
  },
  {
   "cell_type": "code",
   "execution_count": 46,
   "id": "e6d35966",
   "metadata": {},
   "outputs": [],
   "source": [
    "final_model=LinearRegression()"
   ]
  },
  {
   "cell_type": "code",
   "execution_count": 47,
   "id": "95bc920c",
   "metadata": {},
   "outputs": [
    {
     "data": {
      "text/plain": [
       "LinearRegression()"
      ]
     },
     "execution_count": 47,
     "metadata": {},
     "output_type": "execute_result"
    }
   ],
   "source": [
    "final_model.fit(X,y)"
   ]
  },
  {
   "cell_type": "code",
   "execution_count": 48,
   "id": "47b1968d",
   "metadata": {},
   "outputs": [
    {
     "data": {
      "text/plain": [
       "array([ 0.04576465,  0.18853002, -0.00103749])"
      ]
     },
     "execution_count": 48,
     "metadata": {},
     "output_type": "execute_result"
    }
   ],
   "source": [
    "final_model.coef_\n",
    "#reports back the beta coefficients"
   ]
  },
  {
   "cell_type": "code",
   "execution_count": 49,
   "id": "b188f81b",
   "metadata": {},
   "outputs": [],
   "source": [
    "y_hat=final_model.predict(X)"
   ]
  },
  {
   "cell_type": "code",
   "execution_count": 50,
   "id": "feb1cbe0",
   "metadata": {},
   "outputs": [
    {
     "data": {
      "image/png": "[encoded data removed]",
      "text/plain": [
       "<Figure size 1152x432 with 3 Axes>"
      ]
     },
     "metadata": {
      "needs_background": "light"
     },
     "output_type": "display_data"
    }
   ],
   "source": [
    "fig,axes = plt.subplots(nrows=1,ncols=3,figsize=(16,6))\n",
    "\n",
    "axes[0].plot(df['TV'],df['sales'],'o')\n",
    "axes[0].plot(df['TV'],y_hat,'o',color='red')\n",
    "axes[0].set_ylabel(\"Sales\")\n",
    "axes[0].set_title(\"TV Spend\")\n",
    "\n",
    "axes[1].plot(df['radio'],df['sales'],'o')\n",
    "axes[1].plot(df['radio'],y_hat,'o',color='red')\n",
    "axes[1].set_title(\"Radio Spend\")\n",
    "axes[1].set_ylabel(\"Sales\")\n",
    "\n",
    "axes[2].plot(df['newspaper'],df['sales'],'o')\n",
    "axes[2].plot(df['radio'],y_hat,'o',color='red')\n",
    "axes[2].set_title(\"Newspaper Spend\");\n",
    "axes[2].set_ylabel(\"Sales\")\n",
    "plt.tight_layout();"
   ]
  },
  {
   "cell_type": "code",
   "execution_count": 51,
   "id": "2949b1ff",
   "metadata": {},
   "outputs": [],
   "source": [
    "from joblib import dump,load"
   ]
  },
  {
   "cell_type": "code",
   "execution_count": 52,
   "id": "4dbf853a",
   "metadata": {},
   "outputs": [
    {
     "data": {
      "text/plain": [
       "['final_sales_model.joblib']"
      ]
     },
     "execution_count": 52,
     "metadata": {},
     "output_type": "execute_result"
    }
   ],
   "source": [
    "dump(final_model,'final_sales_model.joblib')"
   ]
  },
  {
   "cell_type": "code",
   "execution_count": 53,
   "id": "7b7f7447",
   "metadata": {},
   "outputs": [],
   "source": [
    "loaded_model=load('final_sales_model.joblib')"
   ]
  },
  {
   "cell_type": "code",
   "execution_count": 54,
   "id": "0798c015",
   "metadata": {},
   "outputs": [
    {
     "data": {
      "text/plain": [
       "array([ 0.04576465,  0.18853002, -0.00103749])"
      ]
     },
     "execution_count": 54,
     "metadata": {},
     "output_type": "execute_result"
    }
   ],
   "source": [
    "loaded_model.coef_"
   ]
  },
  {
   "cell_type": "code",
   "execution_count": 55,
   "id": "472be005",
   "metadata": {},
   "outputs": [
    {
     "data": {
      "text/plain": [
       "(200, 3)"
      ]
     },
     "execution_count": 55,
     "metadata": {},
     "output_type": "execute_result"
    }
   ],
   "source": [
    "X.shape"
   ]
  },
  {
   "cell_type": "code",
   "execution_count": 56,
   "id": "c7852e91",
   "metadata": {},
   "outputs": [],
   "source": [
    "#149 TV,22 Radio,12 Newspaper\n",
    "#sales=?\n",
    "campaign=[[149,22,12]]"
   ]
  },
  {
   "cell_type": "code",
   "execution_count": 57,
   "id": "2fc5c00c",
   "metadata": {},
   "outputs": [
    {
     "data": {
      "text/plain": [
       "array([13.893032])"
      ]
     },
     "execution_count": 57,
     "metadata": {},
     "output_type": "execute_result"
    }
   ],
   "source": [
    "loaded_model.predict(campaign)"
   ]
  },
  {
   "cell_type": "markdown",
   "id": "37e022fd",
   "metadata": {},
   "source": [
    "# POLYNOMIAL REGRESSION"
   ]
  },
  {
   "cell_type": "code",
   "execution_count": 58,
   "id": "a74ba99a",
   "metadata": {},
   "outputs": [],
   "source": [
    "#creating polynomial features"
   ]
  },
  {
   "cell_type": "code",
   "execution_count": 59,
   "id": "de11fb46",
   "metadata": {},
   "outputs": [],
   "source": [
    "X=df.drop('sales',axis=1)"
   ]
  },
  {
   "cell_type": "code",
   "execution_count": 60,
   "id": "19b3c2d9",
   "metadata": {},
   "outputs": [],
   "source": [
    "y=df['sales']"
   ]
  },
  {
   "cell_type": "code",
   "execution_count": 61,
   "id": "0ac18c97",
   "metadata": {},
   "outputs": [],
   "source": [
    "from sklearn.preprocessing import PolynomialFeatures"
   ]
  },
  {
   "cell_type": "code",
   "execution_count": 62,
   "id": "7b44453c",
   "metadata": {},
   "outputs": [],
   "source": [
    "polynomial_converter=PolynomialFeatures(degree=2,include_bias=False)"
   ]
  },
  {
   "cell_type": "code",
   "execution_count": 63,
   "id": "5c4a55c1",
   "metadata": {},
   "outputs": [
    {
     "data": {
      "text/plain": [
       "PolynomialFeatures(include_bias=False)"
      ]
     },
     "execution_count": 63,
     "metadata": {},
     "output_type": "execute_result"
    }
   ],
   "source": [
    "polynomial_converter.fit(X)"
   ]
  },
  {
   "cell_type": "code",
   "execution_count": 64,
   "id": "c2d9a6df",
   "metadata": {
    "scrolled": true
   },
   "outputs": [
    {
     "data": {
      "text/plain": [
       "array([[ 230.1 ,   37.8 ,   69.2 , ..., 1428.84, 2615.76, 4788.64],\n",
       "       [  44.5 ,   39.3 ,   45.1 , ..., 1544.49, 1772.43, 2034.01],\n",
       "       [  17.2 ,   45.9 ,   69.3 , ..., 2106.81, 3180.87, 4802.49],\n",
       "       ...,\n",
       "       [ 177.  ,    9.3 ,    6.4 , ...,   86.49,   59.52,   40.96],\n",
       "       [ 283.6 ,   42.  ,   66.2 , ..., 1764.  , 2780.4 , 4382.44],\n",
       "       [ 232.1 ,    8.6 ,    8.7 , ...,   73.96,   74.82,   75.69]])"
      ]
     },
     "execution_count": 64,
     "metadata": {},
     "output_type": "execute_result"
    }
   ],
   "source": [
    "poly_features=polynomial_converter.transform(X)\n",
    "poly_features"
   ]
  },
  {
   "cell_type": "code",
   "execution_count": 65,
   "id": "e4aa096b",
   "metadata": {},
   "outputs": [
    {
     "data": {
      "text/plain": [
       "(200, 9)"
      ]
     },
     "execution_count": 65,
     "metadata": {},
     "output_type": "execute_result"
    }
   ],
   "source": [
    "polynomial_converter.transform(X).shape"
   ]
  },
  {
   "cell_type": "code",
   "execution_count": 66,
   "id": "c0e6eb4d",
   "metadata": {},
   "outputs": [
    {
     "data": {
      "text/plain": [
       "(200, 3)"
      ]
     },
     "execution_count": 66,
     "metadata": {},
     "output_type": "execute_result"
    }
   ],
   "source": [
    "X.shape"
   ]
  },
  {
   "cell_type": "code",
   "execution_count": 67,
   "id": "8500b606",
   "metadata": {},
   "outputs": [
    {
     "data": {
      "text/plain": [
       "TV           230.1\n",
       "radio         37.8\n",
       "newspaper     69.2\n",
       "Name: 0, dtype: float64"
      ]
     },
     "execution_count": 67,
     "metadata": {},
     "output_type": "execute_result"
    }
   ],
   "source": [
    "X.iloc[0]"
   ]
  },
  {
   "cell_type": "code",
   "execution_count": 68,
   "id": "5db79047",
   "metadata": {},
   "outputs": [
    {
     "data": {
      "text/plain": [
       "array([2.301000e+02, 3.780000e+01, 6.920000e+01, 5.294601e+04,\n",
       "       8.697780e+03, 1.592292e+04, 1.428840e+03, 2.615760e+03,\n",
       "       4.788640e+03])"
      ]
     },
     "execution_count": 68,
     "metadata": {},
     "output_type": "execute_result"
    }
   ],
   "source": [
    "poly_features[0]"
   ]
  },
  {
   "cell_type": "code",
   "execution_count": 69,
   "id": "7f8528b2",
   "metadata": {},
   "outputs": [],
   "source": [
    "from sklearn.model_selection import train_test_split"
   ]
  },
  {
   "cell_type": "code",
   "execution_count": 70,
   "id": "77a5faf4",
   "metadata": {},
   "outputs": [],
   "source": [
    "X_train,X_test,y_train,y_test = train_test_split(poly_features,y,test_size=0.3,random_state=42)"
   ]
  },
  {
   "cell_type": "code",
   "execution_count": 71,
   "id": "5a5a6c39",
   "metadata": {},
   "outputs": [],
   "source": [
    "from sklearn.linear_model import LinearRegression"
   ]
  },
  {
   "cell_type": "code",
   "execution_count": 72,
   "id": "6eb78b6b",
   "metadata": {},
   "outputs": [],
   "source": [
    "model=LinearRegression()"
   ]
  },
  {
   "cell_type": "code",
   "execution_count": 73,
   "id": "78fcd739",
   "metadata": {},
   "outputs": [
    {
     "data": {
      "text/plain": [
       "LinearRegression()"
      ]
     },
     "execution_count": 73,
     "metadata": {},
     "output_type": "execute_result"
    }
   ],
   "source": [
    "model.fit(X_train,y_train)"
   ]
  },
  {
   "cell_type": "code",
   "execution_count": 74,
   "id": "9beb46ba",
   "metadata": {},
   "outputs": [],
   "source": [
    "test_predictions=model.predict(X_test)"
   ]
  },
  {
   "cell_type": "code",
   "execution_count": 75,
   "id": "c6651d63",
   "metadata": {},
   "outputs": [
    {
     "data": {
      "text/plain": [
       "array([ 0.05478172,  0.01311214,  0.01086391, -0.00011074,  0.00108048,\n",
       "       -0.00010764,  0.00030191,  0.00017541,  0.00010075])"
      ]
     },
     "execution_count": 75,
     "metadata": {},
     "output_type": "execute_result"
    }
   ],
   "source": [
    "model.coef_"
   ]
  },
  {
   "cell_type": "code",
   "execution_count": 76,
   "id": "6722ddbe",
   "metadata": {},
   "outputs": [],
   "source": [
    "from sklearn.metrics import mean_absolute_error,mean_squared_error"
   ]
  },
  {
   "cell_type": "code",
   "execution_count": 77,
   "id": "c64dbe94",
   "metadata": {},
   "outputs": [],
   "source": [
    "MAE=mean_absolute_error(y_test,test_predictions)"
   ]
  },
  {
   "cell_type": "code",
   "execution_count": 78,
   "id": "e4bfbfbc",
   "metadata": {},
   "outputs": [],
   "source": [
    "MSE=mean_squared_error(y_test,test_predictions)"
   ]
  },
  {
   "cell_type": "code",
   "execution_count": 79,
   "id": "eab8d159",
   "metadata": {},
   "outputs": [],
   "source": [
    "RSE=np.sqrt(MSE)"
   ]
  },
  {
   "cell_type": "code",
   "execution_count": 80,
   "id": "6b1381f5",
   "metadata": {},
   "outputs": [
    {
     "data": {
      "text/plain": [
       "0.5905974833808008"
      ]
     },
     "execution_count": 80,
     "metadata": {},
     "output_type": "execute_result"
    }
   ],
   "source": [
    "MAE"
   ]
  },
  {
   "cell_type": "code",
   "execution_count": 81,
   "id": "68801fcb",
   "metadata": {},
   "outputs": [
    {
     "data": {
      "text/plain": [
       "0.7233218473857531"
      ]
     },
     "execution_count": 81,
     "metadata": {},
     "output_type": "execute_result"
    }
   ],
   "source": [
    "RSE"
   ]
  },
  {
   "cell_type": "code",
   "execution_count": 82,
   "id": "95acf3c1",
   "metadata": {},
   "outputs": [
    {
     "data": {
      "text/plain": [
       "TV           230.1\n",
       "radio         37.8\n",
       "newspaper     69.2\n",
       "Name: 0, dtype: float64"
      ]
     },
     "execution_count": 82,
     "metadata": {},
     "output_type": "execute_result"
    }
   ],
   "source": [
    "X.iloc[0]"
   ]
  },
  {
   "cell_type": "code",
   "execution_count": 83,
   "id": "44a70725",
   "metadata": {},
   "outputs": [
    {
     "data": {
      "text/plain": [
       "array([2.301000e+02, 3.780000e+01, 6.920000e+01, 5.294601e+04,\n",
       "       8.697780e+03, 1.592292e+04, 1.428840e+03, 2.615760e+03,\n",
       "       4.788640e+03])"
      ]
     },
     "execution_count": 83,
     "metadata": {},
     "output_type": "execute_result"
    }
   ],
   "source": [
    "poly_features[0]"
   ]
  },
  {
   "cell_type": "markdown",
   "id": "3f078ada",
   "metadata": {},
   "source": [
    "BIAS VARIANCE TRADE-OFF"
   ]
  },
  {
   "cell_type": "code",
   "execution_count": 84,
   "id": "529fe281",
   "metadata": {},
   "outputs": [],
   "source": [
    "#increasing model complexity(polynomial degree) reduces the error in an ideal situation\n",
    "#underfit and overfit models"
   ]
  },
  {
   "cell_type": "markdown",
   "id": "318527f0",
   "metadata": {},
   "source": [
    "choosing the correct degree"
   ]
  },
  {
   "cell_type": "code",
   "execution_count": 85,
   "id": "9d2f41c6",
   "metadata": {},
   "outputs": [],
   "source": [
    "#create the different order polynomial\n",
    "#split poly feat train/test\n",
    "#fit on train\n",
    "#store/save the root mean square error for both the train and test set\n",
    "#plot the results (error vs poly deree)"
   ]
  },
  {
   "cell_type": "code",
   "execution_count": 86,
   "id": "68c22f47",
   "metadata": {},
   "outputs": [],
   "source": [
    "train_rmse_errors=[]\n",
    "test_rmse_errors=[]\n",
    "\n",
    "\n",
    "for d in range(1,10):\n",
    "    \n",
    "    poly_converter=PolynomialFeatures(degree=d,include_bias=False)\n",
    "    \n",
    "    poly_features=poly_converter.fit_transform(X)\n",
    "    X_train,X_test,y_train,y_test = train_test_split(poly_features,y,test_size=0.3,random_state=42)\n",
    "    \n",
    "    model=LinearRegression()\n",
    "    model.fit(X_train,y_train)\n",
    "    \n",
    "    train_pred=model.predict(X_train)\n",
    "    test_pred=model.predict(X_test)\n",
    "    \n",
    "    train_rmse=np.sqrt(mean_squared_error(y_train,train_pred))\n",
    "    test_rmse=np.sqrt(mean_squared_error(y_test,test_pred))\n",
    "    \n",
    "    \n",
    "    train_rmse_errors.append(train_rmse)\n",
    "    test_rmse_errors.append(test_rmse)\n",
    "    \n",
    "    \n",
    "    "
   ]
  },
  {
   "cell_type": "code",
   "execution_count": 87,
   "id": "7b07749f",
   "metadata": {},
   "outputs": [
    {
     "data": {
      "text/plain": [
       "[1.574596830590544,\n",
       " 0.5950712355838925,\n",
       " 0.4688758111822086,\n",
       " 0.36946897017715674,\n",
       " 0.24382206827180572,\n",
       " 0.19737747791436286,\n",
       " 0.42552782227379454,\n",
       " 0.15782447559939888,\n",
       " 0.16640536093291597]"
      ]
     },
     "execution_count": 87,
     "metadata": {},
     "output_type": "execute_result"
    }
   ],
   "source": [
    "train_rmse_errors"
   ]
  },
  {
   "cell_type": "code",
   "execution_count": 88,
   "id": "e4df3898",
   "metadata": {},
   "outputs": [
    {
     "data": {
      "text/plain": [
       "[1.9485372043446383,\n",
       " 0.7233218473857531,\n",
       " 0.5392350985609965,\n",
       " 1.3032265967218177,\n",
       " 5.946670177318908,\n",
       " 25.96451684336015,\n",
       " 634.4709144546548,\n",
       " 2697.781178413146,\n",
       " 133221.04828871827]"
      ]
     },
     "execution_count": 88,
     "metadata": {},
     "output_type": "execute_result"
    }
   ],
   "source": [
    "test_rmse_errors"
   ]
  },
  {
   "cell_type": "code",
   "execution_count": 89,
   "id": "cf90e328",
   "metadata": {},
   "outputs": [
    {
     "data": {
      "text/plain": [
       "<matplotlib.legend.Legend at 0x186f004e2b0>"
      ]
     },
     "execution_count": 89,
     "metadata": {},
     "output_type": "execute_result"
    },
    {
     "data": {
      "image/png": "[encoded data removed]",
      "text/plain": [
       "<Figure size 432x288 with 1 Axes>"
      ]
     },
     "metadata": {
      "needs_background": "light"
     },
     "output_type": "display_data"
    }
   ],
   "source": [
    "plt.plot(range(1,6),train_rmse_errors[:5],label='TRAIN RMSE')\n",
    "plt.plot(range(1,6),test_rmse_errors[:5],label='TEST RMSE')\n",
    "plt.xlabel('degree of poly')\n",
    "plt.ylabel('rmse')\n",
    "plt.legend()"
   ]
  },
  {
   "cell_type": "code",
   "execution_count": 90,
   "id": "d46f294b",
   "metadata": {},
   "outputs": [],
   "source": [
    "#second degree poly or third degree poly best fits here"
   ]
  },
  {
   "cell_type": "code",
   "execution_count": 91,
   "id": "c7bc2a06",
   "metadata": {},
   "outputs": [],
   "source": [
    "final_poly_converter=PolynomialFeatures(degree=3,include_bias=False)"
   ]
  },
  {
   "cell_type": "code",
   "execution_count": 92,
   "id": "b3f78ecd",
   "metadata": {},
   "outputs": [],
   "source": [
    "final_model=LinearRegression()"
   ]
  },
  {
   "cell_type": "code",
   "execution_count": 93,
   "id": "dde05605",
   "metadata": {},
   "outputs": [
    {
     "data": {
      "text/plain": [
       "LinearRegression()"
      ]
     },
     "execution_count": 93,
     "metadata": {},
     "output_type": "execute_result"
    }
   ],
   "source": [
    "full_converted_X=final_poly_converter.fit_transform(X)\n",
    "final_model.fit(full_converted_X,y)"
   ]
  },
  {
   "cell_type": "code",
   "execution_count": 94,
   "id": "aaad16af",
   "metadata": {},
   "outputs": [],
   "source": [
    "from joblib import dump,load"
   ]
  },
  {
   "cell_type": "code",
   "execution_count": 95,
   "id": "28a03979",
   "metadata": {},
   "outputs": [
    {
     "data": {
      "text/plain": [
       "['final_model.joblib']"
      ]
     },
     "execution_count": 95,
     "metadata": {},
     "output_type": "execute_result"
    }
   ],
   "source": [
    "dump(final_model,'final_model.joblib')"
   ]
  },
  {
   "cell_type": "code",
   "execution_count": 96,
   "id": "6d99fd8a",
   "metadata": {},
   "outputs": [
    {
     "data": {
      "text/plain": [
       "['final_converter.joblib']"
      ]
     },
     "execution_count": 96,
     "metadata": {},
     "output_type": "execute_result"
    }
   ],
   "source": [
    "dump(final_poly_converter,'final_converter.joblib')"
   ]
  },
  {
   "cell_type": "code",
   "execution_count": 97,
   "id": "f8f24b40",
   "metadata": {},
   "outputs": [],
   "source": [
    "loaded_converter=load('final_converter.joblib')"
   ]
  },
  {
   "cell_type": "code",
   "execution_count": 98,
   "id": "732fc023",
   "metadata": {},
   "outputs": [],
   "source": [
    "loaded_model=load('final_model.joblib')"
   ]
  },
  {
   "cell_type": "code",
   "execution_count": 99,
   "id": "baea6e50",
   "metadata": {},
   "outputs": [],
   "source": [
    "campaign=[[149,22,12]]"
   ]
  },
  {
   "cell_type": "code",
   "execution_count": 100,
   "id": "3b13c115",
   "metadata": {},
   "outputs": [],
   "source": [
    "transformed_data=loaded_converter.fit_transform(campaign)"
   ]
  },
  {
   "cell_type": "code",
   "execution_count": 101,
   "id": "c09c55d6",
   "metadata": {},
   "outputs": [
    {
     "data": {
      "text/plain": [
       "array([14.64501014])"
      ]
     },
     "execution_count": 101,
     "metadata": {},
     "output_type": "execute_result"
    }
   ],
   "source": [
    "loaded_model.predict(transformed_data)"
   ]
  },
  {
   "cell_type": "raw",
   "id": "b2b28a05",
   "metadata": {},
   "source": [
    "REGULARISIATION"
   ]
  },
  {
   "cell_type": "code",
   "execution_count": 102,
   "id": "ee49b480",
   "metadata": {},
   "outputs": [],
   "source": [
    "X=df.drop('sales',axis=1)"
   ]
  },
  {
   "cell_type": "code",
   "execution_count": 103,
   "id": "fed6d981",
   "metadata": {},
   "outputs": [],
   "source": [
    "y=df['sales']"
   ]
  },
  {
   "cell_type": "code",
   "execution_count": 104,
   "id": "bfde26e8",
   "metadata": {},
   "outputs": [],
   "source": [
    "from sklearn.preprocessing import PolynomialFeatures"
   ]
  },
  {
   "cell_type": "code",
   "execution_count": 105,
   "id": "29736173",
   "metadata": {},
   "outputs": [],
   "source": [
    "polynomial_converter=PolynomialFeatures(degree=3,include_bias=False)"
   ]
  },
  {
   "cell_type": "code",
   "execution_count": 106,
   "id": "d8b0cd07",
   "metadata": {},
   "outputs": [],
   "source": [
    "poly_features=polynomial_converter.fit_transform(X)"
   ]
  },
  {
   "cell_type": "code",
   "execution_count": 107,
   "id": "c569fea9",
   "metadata": {},
   "outputs": [
    {
     "data": {
      "text/plain": [
       "(200, 19)"
      ]
     },
     "execution_count": 107,
     "metadata": {},
     "output_type": "execute_result"
    }
   ],
   "source": [
    "poly_features.shape"
   ]
  },
  {
   "cell_type": "code",
   "execution_count": 108,
   "id": "c7f5882b",
   "metadata": {},
   "outputs": [],
   "source": [
    "from sklearn.model_selection import train_test_split"
   ]
  },
  {
   "cell_type": "code",
   "execution_count": 109,
   "id": "c97c60a1",
   "metadata": {},
   "outputs": [],
   "source": [
    "X_train,X_test,y_train,y_test = train_test_split(poly_features,y,test_size=0.3,random_state=42)"
   ]
  },
  {
   "cell_type": "code",
   "execution_count": 110,
   "id": "5af8040e",
   "metadata": {},
   "outputs": [
    {
     "data": {
      "text/plain": [
       "(140, 19)"
      ]
     },
     "execution_count": 110,
     "metadata": {},
     "output_type": "execute_result"
    }
   ],
   "source": [
    "X_train.shape"
   ]
  },
  {
   "cell_type": "code",
   "execution_count": 111,
   "id": "eea1663a",
   "metadata": {},
   "outputs": [],
   "source": [
    "from sklearn.preprocessing import StandardScaler"
   ]
  },
  {
   "cell_type": "code",
   "execution_count": 112,
   "id": "3239dc62",
   "metadata": {},
   "outputs": [],
   "source": [
    "scaler=StandardScaler()"
   ]
  },
  {
   "cell_type": "code",
   "execution_count": 113,
   "id": "dc17e9e7",
   "metadata": {},
   "outputs": [
    {
     "data": {
      "text/plain": [
       "StandardScaler()"
      ]
     },
     "execution_count": 113,
     "metadata": {},
     "output_type": "execute_result"
    }
   ],
   "source": [
    "scaler.fit(X_train)"
   ]
  },
  {
   "cell_type": "code",
   "execution_count": 114,
   "id": "cd11f75d",
   "metadata": {},
   "outputs": [],
   "source": [
    "X_train=scaler.transform(X_train)"
   ]
  },
  {
   "cell_type": "code",
   "execution_count": 115,
   "id": "9173fcbf",
   "metadata": {},
   "outputs": [],
   "source": [
    "X_test=scaler.transform(X_test)"
   ]
  },
  {
   "cell_type": "code",
   "execution_count": 116,
   "id": "5a9e360a",
   "metadata": {},
   "outputs": [
    {
     "data": {
      "text/plain": [
       "array([ 1.53003874, -0.8862929 , -1.16598019,  1.93705409, -0.22476356,\n",
       "       -0.62651363, -0.90793157, -0.850692  , -0.81317305,  2.23096225,\n",
       "        0.10749852, -0.35876444, -0.61820397, -0.60530328, -0.5751799 ,\n",
       "       -0.81381745, -0.72447935, -0.64260728, -0.56741817])"
      ]
     },
     "execution_count": 116,
     "metadata": {},
     "output_type": "execute_result"
    }
   ],
   "source": [
    "X_train[0]"
   ]
  },
  {
   "cell_type": "code",
   "execution_count": 117,
   "id": "2c29d227",
   "metadata": {},
   "outputs": [
    {
     "data": {
      "text/plain": [
       "array([2.30100000e+02, 3.78000000e+01, 6.92000000e+01, 5.29460100e+04,\n",
       "       8.69778000e+03, 1.59229200e+04, 1.42884000e+03, 2.61576000e+03,\n",
       "       4.78864000e+03, 1.21828769e+07, 2.00135918e+06, 3.66386389e+06,\n",
       "       3.28776084e+05, 6.01886376e+05, 1.10186606e+06, 5.40101520e+04,\n",
       "       9.88757280e+04, 1.81010592e+05, 3.31373888e+05])"
      ]
     },
     "execution_count": 117,
     "metadata": {},
     "output_type": "execute_result"
    }
   ],
   "source": [
    "poly_features[0]"
   ]
  },
  {
   "cell_type": "markdown",
   "id": "a9f2502b",
   "metadata": {},
   "source": [
    "RIDGE REGRESSION (FIRST REGULARISATION TECHNIQUE (L2))"
   ]
  },
  {
   "cell_type": "code",
   "execution_count": 118,
   "id": "b4b490e9",
   "metadata": {},
   "outputs": [],
   "source": [
    "from sklearn.linear_model import Ridge"
   ]
  },
  {
   "cell_type": "code",
   "execution_count": 119,
   "id": "c981ca7d",
   "metadata": {},
   "outputs": [],
   "source": [
    "ridge_model=Ridge(alpha=10)"
   ]
  },
  {
   "cell_type": "code",
   "execution_count": 120,
   "id": "08f9d355",
   "metadata": {},
   "outputs": [
    {
     "data": {
      "text/plain": [
       "Ridge(alpha=10)"
      ]
     },
     "execution_count": 120,
     "metadata": {},
     "output_type": "execute_result"
    }
   ],
   "source": [
    "ridge_model.fit(X_train,y_train)"
   ]
  },
  {
   "cell_type": "code",
   "execution_count": 121,
   "id": "f99f1416",
   "metadata": {},
   "outputs": [],
   "source": [
    "test_predictions=ridge_model.predict(X_test)"
   ]
  },
  {
   "cell_type": "code",
   "execution_count": 122,
   "id": "88f31466",
   "metadata": {},
   "outputs": [],
   "source": [
    "from sklearn.metrics import mean_absolute_error,mean_squared_error"
   ]
  },
  {
   "cell_type": "code",
   "execution_count": 123,
   "id": "189a0479",
   "metadata": {},
   "outputs": [],
   "source": [
    "MAE=mean_absolute_error(y_test,test_predictions)"
   ]
  },
  {
   "cell_type": "code",
   "execution_count": 124,
   "id": "acdd935c",
   "metadata": {},
   "outputs": [
    {
     "data": {
      "text/plain": [
       "0.6296591346758601"
      ]
     },
     "execution_count": 124,
     "metadata": {},
     "output_type": "execute_result"
    }
   ],
   "source": [
    "MAE"
   ]
  },
  {
   "cell_type": "code",
   "execution_count": 125,
   "id": "afef99fe",
   "metadata": {},
   "outputs": [],
   "source": [
    "RMSE=np.sqrt(mean_squared_error(y_test,test_predictions))"
   ]
  },
  {
   "cell_type": "code",
   "execution_count": 126,
   "id": "e8bce94f",
   "metadata": {},
   "outputs": [
    {
     "data": {
      "text/plain": [
       "0.8916327541710896"
      ]
     },
     "execution_count": 126,
     "metadata": {},
     "output_type": "execute_result"
    }
   ],
   "source": [
    "RMSE"
   ]
  },
  {
   "cell_type": "code",
   "execution_count": 128,
   "id": "708d838c",
   "metadata": {},
   "outputs": [],
   "source": [
    "from sklearn.linear_model import RidgeCV\n",
    "#perform cross validation for alpha values"
   ]
  },
  {
   "cell_type": "code",
   "execution_count": 129,
   "id": "4fb8bb8d",
   "metadata": {},
   "outputs": [],
   "source": [
    "ridge_cv_model=RidgeCV(alphas=(0.1,1.0,10.0))"
   ]
  },
  {
   "cell_type": "code",
   "execution_count": 137,
   "id": "927655ca",
   "metadata": {},
   "outputs": [
    {
     "data": {
      "text/plain": [
       "RidgeCV(alphas=array([ 0.1,  1. , 10. ]))"
      ]
     },
     "execution_count": 137,
     "metadata": {},
     "output_type": "execute_result"
    }
   ],
   "source": [
    "ridge_cv_model.fit(X_train,y_train)"
   ]
  },
  {
   "cell_type": "code",
   "execution_count": 131,
   "id": "ddef5604",
   "metadata": {},
   "outputs": [
    {
     "data": {
      "text/plain": [
       "0.1"
      ]
     },
     "execution_count": 131,
     "metadata": {},
     "output_type": "execute_result"
    }
   ],
   "source": [
    "ridge_cv_model.alpha_"
   ]
  },
  {
   "cell_type": "code",
   "execution_count": 134,
   "id": "3aaa85b6",
   "metadata": {},
   "outputs": [],
   "source": [
    "from sklearn.metrics import SCORERS"
   ]
  },
  {
   "cell_type": "code",
   "execution_count": 136,
   "id": "efd186f3",
   "metadata": {},
   "outputs": [
    {
     "data": {
      "text/plain": [
       "dict_keys(['explained_variance', 'r2', 'max_error', 'neg_median_absolute_error', 'neg_mean_absolute_error', 'neg_mean_absolute_percentage_error', 'neg_mean_squared_error', 'neg_mean_squared_log_error', 'neg_root_mean_squared_error', 'neg_mean_poisson_deviance', 'neg_mean_gamma_deviance', 'accuracy', 'top_k_accuracy', 'roc_auc', 'roc_auc_ovr', 'roc_auc_ovo', 'roc_auc_ovr_weighted', 'roc_auc_ovo_weighted', 'balanced_accuracy', 'average_precision', 'neg_log_loss', 'neg_brier_score', 'adjusted_rand_score', 'rand_score', 'homogeneity_score', 'completeness_score', 'v_measure_score', 'mutual_info_score', 'adjusted_mutual_info_score', 'normalized_mutual_info_score', 'fowlkes_mallows_score', 'precision', 'precision_macro', 'precision_micro', 'precision_samples', 'precision_weighted', 'recall', 'recall_macro', 'recall_micro', 'recall_samples', 'recall_weighted', 'f1', 'f1_macro', 'f1_micro', 'f1_samples', 'f1_weighted', 'jaccard', 'jaccard_macro', 'jaccard_micro', 'jaccard_samples', 'jaccard_weighted'])"
      ]
     },
     "execution_count": 136,
     "metadata": {},
     "output_type": "execute_result"
    }
   ],
   "source": [
    "SCORERS.keys()"
   ]
  },
  {
   "cell_type": "code",
   "execution_count": 139,
   "id": "727197ac",
   "metadata": {},
   "outputs": [],
   "source": [
    "test_predictions=ridge_cv_model.predict(X_test)"
   ]
  },
  {
   "cell_type": "code",
   "execution_count": 140,
   "id": "8e4d50a1",
   "metadata": {},
   "outputs": [],
   "source": [
    "MAE=mean_absolute_error(y_test,test_predictions)"
   ]
  },
  {
   "cell_type": "code",
   "execution_count": 141,
   "id": "6997ac39",
   "metadata": {},
   "outputs": [
    {
     "data": {
      "text/plain": [
       "0.46671241132084407"
      ]
     },
     "execution_count": 141,
     "metadata": {},
     "output_type": "execute_result"
    }
   ],
   "source": [
    "MAE"
   ]
  },
  {
   "cell_type": "code",
   "execution_count": 142,
   "id": "d065db0a",
   "metadata": {},
   "outputs": [],
   "source": [
    "RMSE=np.sqrt(mean_squared_error(y_test,test_predictions))"
   ]
  },
  {
   "cell_type": "code",
   "execution_count": 143,
   "id": "f9ad6310",
   "metadata": {},
   "outputs": [
    {
     "data": {
      "text/plain": [
       "0.5945136671856113"
      ]
     },
     "execution_count": 143,
     "metadata": {},
     "output_type": "execute_result"
    }
   ],
   "source": [
    "RMSE"
   ]
  },
  {
   "cell_type": "code",
   "execution_count": 144,
   "id": "760e1f7d",
   "metadata": {},
   "outputs": [
    {
     "data": {
      "text/plain": [
       "array([ 5.90523815,  0.46316396,  0.68028713, -6.17743395,  3.73671928,\n",
       "       -1.40708382,  0.00624704,  0.11128917, -0.2617823 ,  2.17135744,\n",
       "       -0.51480159,  0.70587211,  0.60311504, -0.53271216,  0.5716495 ,\n",
       "       -0.34685826,  0.36744388, -0.03938079, -0.12192939])"
      ]
     },
     "execution_count": 144,
     "metadata": {},
     "output_type": "execute_result"
    }
   ],
   "source": [
    "ridge_cv_model.coef_"
   ]
  },
  {
   "cell_type": "markdown",
   "id": "ef37ace7",
   "metadata": {},
   "source": [
    "LASSO REGULARISSATION (L1)"
   ]
  },
  {
   "cell_type": "code",
   "execution_count": 146,
   "id": "ecb70bda",
   "metadata": {},
   "outputs": [],
   "source": [
    "from sklearn.linear_model import LassoCV"
   ]
  },
  {
   "cell_type": "code",
   "execution_count": 152,
   "id": "e93c5d36",
   "metadata": {},
   "outputs": [],
   "source": [
    "lasso_cv_model=LassoCV(eps=0.1,n_alphas=100)"
   ]
  },
  {
   "cell_type": "code",
   "execution_count": 153,
   "id": "a7abbff9",
   "metadata": {},
   "outputs": [
    {
     "data": {
      "text/plain": [
       "LassoCV(eps=0.1)"
      ]
     },
     "execution_count": 153,
     "metadata": {},
     "output_type": "execute_result"
    }
   ],
   "source": [
    "lasso_cv_model.fit(X_train,y_train)"
   ]
  },
  {
   "cell_type": "code",
   "execution_count": 154,
   "id": "a0dbbcf3",
   "metadata": {},
   "outputs": [
    {
     "data": {
      "text/plain": [
       "0.4924531806474871"
      ]
     },
     "execution_count": 154,
     "metadata": {},
     "output_type": "execute_result"
    }
   ],
   "source": [
    "lasso_cv_model.alpha_"
   ]
  },
  {
   "cell_type": "code",
   "execution_count": 160,
   "id": "d196c49b",
   "metadata": {},
   "outputs": [],
   "source": [
    "test_predictions=lasso_cv_model.predict(X_test)"
   ]
  },
  {
   "cell_type": "code",
   "execution_count": 161,
   "id": "a388c65a",
   "metadata": {},
   "outputs": [],
   "source": [
    "MAE=mean_absolute_error(y_test,test_predictions)"
   ]
  },
  {
   "cell_type": "code",
   "execution_count": 162,
   "id": "563a8e8f",
   "metadata": {},
   "outputs": [
    {
     "data": {
      "text/plain": [
       "0.6811456342837983"
      ]
     },
     "execution_count": 162,
     "metadata": {},
     "output_type": "execute_result"
    }
   ],
   "source": [
    "MAE"
   ]
  },
  {
   "cell_type": "code",
   "execution_count": 163,
   "id": "9c117577",
   "metadata": {},
   "outputs": [],
   "source": [
    "RMSE=np.sqrt(mean_squared_error(y_test,test_predictions))"
   ]
  },
  {
   "cell_type": "code",
   "execution_count": 164,
   "id": "1c467d48",
   "metadata": {},
   "outputs": [
    {
     "data": {
      "text/plain": [
       "1.0349127365478727"
      ]
     },
     "execution_count": 164,
     "metadata": {},
     "output_type": "execute_result"
    }
   ],
   "source": [
    "RMSE"
   ]
  },
  {
   "cell_type": "code",
   "execution_count": 165,
   "id": "ebd9a199",
   "metadata": {},
   "outputs": [
    {
     "data": {
      "text/plain": [
       "array([0.97675148, 0.        , 0.        , 0.        , 3.8148913 ,\n",
       "       0.        , 0.        , 0.        , 0.        , 0.        ,\n",
       "       0.        , 0.        , 0.        , 0.        , 0.        ,\n",
       "       0.        , 0.        , 0.        , 0.        ])"
      ]
     },
     "execution_count": 165,
     "metadata": {},
     "output_type": "execute_result"
    }
   ],
   "source": [
    "lasso_cv_model.coef_\n",
    "#almost all are zero,thus performing well and can easily be interpreted"
   ]
  },
  {
   "cell_type": "markdown",
   "id": "c4c59c9a",
   "metadata": {},
   "source": [
    "ELASTIC NET (L1 AND L2)"
   ]
  },
  {
   "cell_type": "code",
   "execution_count": 167,
   "id": "3720adbb",
   "metadata": {},
   "outputs": [],
   "source": [
    "from sklearn.linear_model import ElasticNetCV"
   ]
  },
  {
   "cell_type": "code",
   "execution_count": 169,
   "id": "40bc909a",
   "metadata": {},
   "outputs": [],
   "source": [
    "elastic_model = ElasticNetCV(l1_ratio=[.1, .5, .7,.9, .95, .99, 1],tol=0.01)"
   ]
  },
  {
   "cell_type": "code",
   "execution_count": 170,
   "id": "e6bc7680",
   "metadata": {},
   "outputs": [
    {
     "data": {
      "text/plain": [
       "ElasticNetCV(l1_ratio=[0.1, 0.5, 0.7, 0.9, 0.95, 0.99, 1], tol=0.01)"
      ]
     },
     "execution_count": 170,
     "metadata": {},
     "output_type": "execute_result"
    }
   ],
   "source": [
    "elastic_model.fit(X_train,y_train)"
   ]
  },
  {
   "cell_type": "code",
   "execution_count": 171,
   "id": "5599054e",
   "metadata": {},
   "outputs": [
    {
     "data": {
      "text/plain": [
       "0.95"
      ]
     },
     "execution_count": 171,
     "metadata": {},
     "output_type": "execute_result"
    }
   ],
   "source": [
    "elastic_model.l1_ratio_"
   ]
  },
  {
   "cell_type": "code",
   "execution_count": 172,
   "id": "d9156def",
   "metadata": {},
   "outputs": [],
   "source": [
    "test_predictions = elastic_model.predict(X_test)"
   ]
  },
  {
   "cell_type": "code",
   "execution_count": 173,
   "id": "ce31cf43",
   "metadata": {},
   "outputs": [],
   "source": [
    "MAE= mean_absolute_error(y_test,test_predictions)\n",
    "MSE = mean_squared_error(y_test,test_predictions)\n",
    "RMSE = np.sqrt(MSE)"
   ]
  },
  {
   "cell_type": "code",
   "execution_count": 174,
   "id": "672ec3cb",
   "metadata": {},
   "outputs": [
    {
     "data": {
      "text/plain": [
       "0.6383683427025824"
      ]
     },
     "execution_count": 174,
     "metadata": {},
     "output_type": "execute_result"
    }
   ],
   "source": [
    "MAE"
   ]
  },
  {
   "cell_type": "code",
   "execution_count": 175,
   "id": "3709febd",
   "metadata": {},
   "outputs": [
    {
     "data": {
      "text/plain": [
       "0.7707991875643564"
      ]
     },
     "execution_count": 175,
     "metadata": {},
     "output_type": "execute_result"
    }
   ],
   "source": [
    "RMSE"
   ]
  },
  {
   "cell_type": "code",
   "execution_count": 176,
   "id": "d36e6473",
   "metadata": {},
   "outputs": [
    {
     "data": {
      "text/plain": [
       "array([ 3.95312352,  0.98671224,  0.2194859 , -1.01798785,  1.97463372,\n",
       "       -0.3782983 , -0.12009502,  0.07739924,  0.02861239, -1.10946628,\n",
       "        0.49812979, -0.        ,  0.95685199, -0.05702842,  0.04842821,\n",
       "       -0.36288403,  0.1257612 ,  0.00643697,  0.        ])"
      ]
     },
     "execution_count": 176,
     "metadata": {},
     "output_type": "execute_result"
    }
   ],
   "source": [
    "elastic_model.coef_"
   ]
  },
  {
   "cell_type": "code",
   "execution_count": null,
   "id": "c937b136",
   "metadata": {},
   "outputs": [],
   "source": []
  }
 ],
 "metadata": {
  "kernelspec": {
   "display_name": "Python 3 (ipykernel)",
   "language": "python",
   "name": "python3"
  },
  "language_info": {
   "codemirror_mode": {
    "name": "ipython",
    "version": 3
   },
   "file_extension": ".py",
   "mimetype": "text/x-python",
   "name": "python",
   "nbconvert_exporter": "python",
   "pygments_lexer": "ipython3",
   "version": "3.9.7"
  }
 },
 "nbformat": 4,
 "nbformat_minor": 5
}
